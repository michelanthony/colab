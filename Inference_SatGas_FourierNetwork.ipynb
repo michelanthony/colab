{
  "nbformat": 4,
  "nbformat_minor": 0,
  "metadata": {
    "colab": {
      "provenance": [],
      "machine_shape": "hm",
      "gpuType": "T4",
      "mount_file_id": "1RVouig5pnXYKa2q6HkWDiSKITSVmS1qw",
      "authorship_tag": "ABX9TyPVoDJzzC4zn/KtZwY6Qntb",
      "include_colab_link": true
    },
    "kernelspec": {
      "name": "python3",
      "display_name": "Python 3"
    },
    "language_info": {
      "name": "python"
    },
    "accelerator": "GPU"
  },
  "cells": [
    {
      "cell_type": "markdown",
      "metadata": {
        "id": "view-in-github",
        "colab_type": "text"
      },
      "source": [
        "<a href=\"https://colab.research.google.com/github/michelanthony/colab/blob/main/Inference_SatGas_FourierNetwork.ipynb\" target=\"_parent\"><img src=\"https://colab.research.google.com/assets/colab-badge.svg\" alt=\"Open In Colab\"/></a>"
      ]
    },
    {
      "cell_type": "code",
      "source": [
        "!pip3 install torch==1.11.0 torchvision torchaudio torchtext"
      ],
      "metadata": {
        "id": "KyFOvuJzDEEW"
      },
      "execution_count": null,
      "outputs": []
    },
    {
      "cell_type": "code",
      "execution_count": null,
      "metadata": {
        "id": "HqktRJ0Llq_h"
      },
      "outputs": [],
      "source": [
        "!git clone https://github.com/gegewen/ufno.git\n"
      ]
    },
    {
      "cell_type": "code",
      "source": [
        "%cd /content/ufno"
      ],
      "metadata": {
        "id": "1Mav1IzLmu0e"
      },
      "execution_count": null,
      "outputs": []
    },
    {
      "cell_type": "code",
      "source": [
        "import torch\n",
        "import numpy as np\n",
        "from ufno import *\n",
        "from lploss import *\n",
        "import matplotlib.pyplot as plt"
      ],
      "metadata": {
        "id": "ZRciYeQemK3a"
      },
      "execution_count": null,
      "outputs": []
    },
    {
      "cell_type": "code",
      "source": [
        "device = torch.device('cuda:0')\n",
        "DATA_DIR='/content/drive/MyDrive'"
      ],
      "metadata": {
        "id": "bLzUdQbQqa1B"
      },
      "execution_count": null,
      "outputs": []
    },
    {
      "cell_type": "code",
      "source": [
        "test_u = torch.load(f'{DATA_DIR}/sg_test_u.pt')\n",
        "test_u = test_u[:200]\n",
        "print(test_u.shape)\n",
        "\n",
        "test_a = torch.load(f'{DATA_DIR}/sg_test_a.pt')\n",
        "test_a = test_a[:200]\n",
        "print(test_a.shape)"
      ],
      "metadata": {
        "id": "bHtddDXRm7pX"
      },
      "execution_count": null,
      "outputs": []
    },
    {
      "cell_type": "code",
      "source": [
        "#train_u = torch.load(f'{DATA_DIR}/sg_train_u.pt')\n",
        "#print(train_u.shape)\n",
        "\n",
        "#train_a = torch.load(f'{DATA_DIR}/sg_train_a.pt')\n",
        "#print(train_a.shape)"
      ],
      "metadata": {
        "id": "T9j0VvTazEes"
      },
      "execution_count": null,
      "outputs": []
    },
    {
      "cell_type": "code",
      "source": [
        "torch.manual_seed(0)\n",
        "np.random.seed(0)\n"
      ],
      "metadata": {
        "id": "f8z6enbUzWrK"
      },
      "execution_count": null,
      "outputs": []
    },
    {
      "cell_type": "code",
      "source": [
        "mode1 = 10\n",
        "mode2 = 10\n",
        "mode3 = 10\n",
        "width = 36\n",
        "device = torch.device('cuda:0')\n",
        "model = Net3d(mode1, mode2, mode3, width)\n",
        "    \n",
        "model.to(device)"
      ],
      "metadata": {
        "id": "5aJcz8ybzmkj"
      },
      "execution_count": null,
      "outputs": []
    },
    {
      "cell_type": "code",
      "source": [
        "# prepare for calculating x direction derivatives \n",
        "time_grid = np.cumsum(np.power(1.421245, range(24)))\n",
        "time_grid /= np.max(time_grid)\n",
        "grid_x = test_a[0,0,:,0,-3]\n",
        "grid_dx = grid_x[1:-1] + grid_x[:-2]/2 + grid_x[2:]/2\n",
        "grid_dx = grid_dx[None, None, :, None].to(device)"
      ],
      "metadata": {
        "id": "HwZPnSO90ZPt"
      },
      "execution_count": null,
      "outputs": []
    },
    {
      "cell_type": "code",
      "source": [
        "epochs = 50\n",
        "e_start = 0\n",
        "learning_rate = 0.001\n",
        "scheduler_step = 2\n",
        "scheduler_gamma = 0.9\n",
        "learning_rate"
      ],
      "metadata": {
        "id": "7C4_Ng8V0bmg"
      },
      "execution_count": null,
      "outputs": []
    },
    {
      "cell_type": "code",
      "source": [
        "batch_size = 2\n",
        "\n",
        "train_loader = torch.utils.data.DataLoader(torch.utils.data.TensorDataset(test_a, test_u), batch_size=batch_size, shuffle=True)"
      ],
      "metadata": {
        "id": "5Z2fEIwZ0fuG"
      },
      "execution_count": null,
      "outputs": []
    },
    {
      "cell_type": "markdown",
      "source": [],
      "metadata": {
        "id": "h2TWmXbSEUCz"
      }
    },
    {
      "cell_type": "code",
      "source": [
        "optimizer = torch.optim.Adam(model.parameters(), lr=learning_rate, weight_decay=1e-4)\n",
        "scheduler = torch.optim.lr_scheduler.StepLR(optimizer, step_size=scheduler_step, gamma=scheduler_gamma)\n",
        "myloss = LpLoss(size_average=False)"
      ],
      "metadata": {
        "id": "1VuOpdC0011D"
      },
      "execution_count": null,
      "outputs": []
    },
    {
      "cell_type": "code",
      "source": [
        "# train_l2 = 0.0\n",
        "#for ep in range(1,epochs+1):\n",
        "#    model.train()\n",
        "#    train_l2 = 0\n",
        "#    counter = 0\n",
        "#    for x, y in train_loader:\n",
        "#        x, y = x.to(device), y.to(device)\n",
        "#        dy = (y[:,:,2:,:] - y[:,:,:-2,:])/grid_dx        \n",
        "#        optimizer.zero_grad()\n",
        "#        \n",
        "#        mask = (x[:,:,:,0:1,0]!=0).repeat(1,1,1,24)\n",
        "#        dy = (y[:,:,2:,:] - y[:,:,:-2,:])/grid_dx\n",
        "#        pred = model(x).view(-1,96,200,24)\n",
        "#        dy_pred = (pred[:,:,2:,:] - pred[:,:,:-2,:])/grid_dx\n",
        "#        ori_loss = 0\n",
        "#        der_loss = 0\n",
        "#        \n",
        "#        # original loss\n",
        "#        for i in range(batch_size):\n",
        "#            ori_loss += myloss(pred[i,...][mask[i,...]].reshape(1, -1), y[i,...][mask[i,...]].reshape(1, -1))\n",
        "#\n",
        "#        # 1st derivative loss\n",
        "#        dy_pred = (pred[:,:,2:,:] - pred[:,:,:-2,:])/grid_dx\n",
        "#        mask_dy = mask[:,:,:198,:]\n",
        "#        for i in range(batch_size):\n",
        "#            der_loss += myloss(dy_pred[i,...][mask_dy[i,...]].reshape(1, -1), dy[i,...][mask_dy[i,...]].view(1, -1))\n",
        "#\n",
        "#        loss = ori_loss + 0.5 * der_loss\n",
        "#        \n",
        "#        loss.backward()\n",
        "#        optimizer.step()\n",
        "#        train_l2 += loss.item()\n",
        "#\n",
        "#        counter += 1\n",
        "#        if counter % 10 == 0:\n",
        "#            print(f'epoch: {ep}, batch: {counter}/{len(train_loader)}, train loss: {loss.item()/batch_size:.4f}')\n",
        "#        \n",
        "#    scheduler.step()\n",
        "#    \n",
        "#    print(f'epoch: {ep}, train loss: {train_l2/test_a.shape[0]:.4f}')\n",
        "#    \n",
        "#    lr_ = optimizer.param_groups[0]['lr']\n",
        "#    if ep % 2 == 0:\n",
        "#        PATH = f'/content/drive/MyDrive/UFNO/T4_SG_UFNO_{ep}ep_{width}width_{mode1}m1_{mode2}m2_{test_a.shape[0]}train_{lr_:.2e}lr'\n",
        "#        torch.save(model, PATH)"
      ],
      "metadata": {
        "id": "9IxUnTIf1AKk"
      },
      "execution_count": null,
      "outputs": []
    },
    {
      "cell_type": "code",
      "source": [
        "# Save Model"
      ],
      "metadata": {
        "id": "OeipSF2kW02F"
      },
      "execution_count": null,
      "outputs": []
    },
    {
      "cell_type": "code",
      "source": [
        "#model = torch.load('/content/drive/MyDrive/UFNO/T4_SG_UFNO_28ep_36width_10m1_10m2_200train_2.29e-04lr')\n",
        "\n",
        "#torch.save(model, '/content/drive/MyDrive/UFNO/T4_model_last.pt')"
      ],
      "metadata": {
        "id": "mV6hfvUxLehN"
      },
      "execution_count": null,
      "outputs": []
    },
    {
      "cell_type": "code",
      "source": [
        "# torch.save(model.state_dict(), '/content/drive/MyDrive/UFNO/T4_model_state_dict_last.pt')"
      ],
      "metadata": {
        "id": "rulcTo_oMq1J"
      },
      "execution_count": null,
      "outputs": []
    },
    {
      "cell_type": "code",
      "source": [
        "#============================================\n",
        "# Reload Model\n",
        "#============================================\n"
      ],
      "metadata": {
        "id": "UkRLU5RsWxWx"
      },
      "execution_count": null,
      "outputs": []
    },
    {
      "cell_type": "code",
      "source": [
        "model2 = torch.load('/content/drive/MyDrive/UFNO/T4_model_last.pt')\n",
        "#model2 = torch.load('/content/drive/MyDrive/UFNO/T4_SG_UFNO_28ep_36width_10m1_10m2_200train_2.29e-04lr')\n",
        "model2.eval()"
      ],
      "metadata": {
        "id": "_Z3rRiu5L0cU"
      },
      "execution_count": null,
      "outputs": []
    },
    {
      "cell_type": "code",
      "source": [
        "x = test_a[1:2].to(device)\n",
        "y = test_u[1:2].to(device)\n",
        "\n",
        "print(x.shape)\n",
        "print(y.shape)"
      ],
      "metadata": {
        "id": "qCYq99rINTtM"
      },
      "execution_count": null,
      "outputs": []
    },
    {
      "cell_type": "code",
      "source": [
        "ypred = model2(x)\n",
        "print(ypred.shape)"
      ],
      "metadata": {
        "id": "xyVyUfNMN1O0"
      },
      "execution_count": null,
      "outputs": []
    },
    {
      "cell_type": "code",
      "source": [
        "# Prepare for plotting\n",
        "dx = np.cumsum(3.5938*np.power(1.035012, range(200))) + 0.1\n",
        "X, Y = np.meshgrid(dx, np.linspace(0,200,num = 96))\n",
        "\n",
        "def pcolor(x):\n",
        "    plt.jet()\n",
        "    return plt.pcolor(X[:thickness, :], Y[:thickness, :], np.flipud(x), shading='auto')\n",
        "\n",
        "times = np.cumsum(np.power(1.421245, range(24)))\n",
        "time_print = []\n",
        "for t in range(times.shape[0]):\n",
        "    if times[t]<365:\n",
        "        title = str(int(times[t]))+' d'\n",
        "        time_print = np.append(time_print,title)\n",
        "    else:\n",
        "        title = f'{round(int(times[t])/365, 1)} y' \n",
        "        time_print = np.append(time_print,title)\n",
        "\n",
        "dnorm_inj = lambda a : (a * (3e6 - 3e5) + 3e5) / (1e6 /365*1000/1.862)\n",
        "dnorm_temp = lambda a : a * (180 - 30) + 30\n",
        "dnorm_P = lambda a : a * (300 - 100) + 100\n",
        "dnorm_lam = lambda a : a * 0.4 + 0.3\n",
        "dnorm_Swi = lambda a : a * 0.2 + 0.1\n"
      ],
      "metadata": {
        "id": "TfxTtDmcITlK"
      },
      "execution_count": null,
      "outputs": []
    },
    {
      "cell_type": "code",
      "source": [
        "# Choix du test de validation : \n",
        "\n",
        "i=51\n",
        "test_loader = torch.utils.data.DataLoader(torch.utils.data.TensorDataset(test_a[i:i+1,...], \n",
        "                                                                         test_u[i:i+1,...]), \n",
        "                                          batch_size=1, \n",
        "                                          shuffle=False)"
      ],
      "metadata": {
        "id": "yGMwMY5Kc9By"
      },
      "execution_count": null,
      "outputs": []
    },
    {
      "cell_type": "code",
      "source": [
        "x, y = next(iter(test_loader))\n",
        "x, y = x.to(device), y.to(device)\n",
        "pred = model2(x).view(-1,96,200,24)\n",
        "\n",
        "y_plot = y.cpu().detach().numpy()\n",
        "x_plot = x.cpu().detach().numpy()\n",
        "pred_plot = pred.cpu().detach().numpy()\n",
        "\n",
        "# reservior have different thickness as marked in the permeability map\n",
        "mask = x_plot[0,:,:,0,0] != 0 \n",
        "thickness = sum(mask[:,0])\n",
        "\n",
        "# extract input parameters\n",
        "poro_map = x_plot[0,:,:,0,2][mask].reshape((thickness, -1))\n",
        "kr_map = np.exp(x_plot[0,:,:,0,0][mask].reshape((thickness, -1))*15)\n",
        "kz_map = np.exp(x_plot[0,:,:,0,1][mask].reshape((thickness, -1))*15)\n",
        "\n",
        "inj_rate = dnorm_inj(x_plot[0,0,0,0,4])\n",
        "temperature = dnorm_temp(x_plot[0,0,0,0,5])\n",
        "pressure = dnorm_P(x_plot[0,0,0,0,6])\n",
        "Swi = dnorm_Swi(x_plot[0,0,0,0,7])\n",
        "lam = dnorm_lam(x_plot[0,0,0,0,8])\n",
        "\n",
        "print(f'Params: injection rate: {inj_rate:.2f} MT/yr, temperature: {temperature:.1f} C, initial pressure: {pressure:.1f} bar, Swi: {Swi:.2f}, lan: {lam:.2f}')\n"
      ],
      "metadata": {
        "id": "6wpJFoY6dLpA"
      },
      "execution_count": null,
      "outputs": []
    },
    {
      "cell_type": "code",
      "source": [
        "t_lst = [14,20,23]\n",
        "plt.figure(figsize=(15,6))    \n",
        "for j, t in enumerate(t_lst):   \n",
        "    plt.subplot(4,3,j+1)\n",
        "    if j == 2:\n",
        "        pcolor(poro_map)\n",
        "        plt.title('$\\phi$ (-)')\n",
        "    elif j == 1:\n",
        "        pcolor(kz_map)\n",
        "        plt.title('$k_z$ (mD)')\n",
        "    else:\n",
        "        pcolor(kr_map)\n",
        "        plt.title('$k_r$ (mD)')\n",
        "    plt.colorbar(fraction=0.02)\n",
        "    plt.xlim([0,3500])        \n",
        "\n",
        "    plt.subplot(4,3,j+4)\n",
        "    pcolor(y_plot[0,:,:,t][mask].reshape((thickness, -1)))\n",
        "    plt.title('$SG$ (-), '+f't={time_print[t]}')\n",
        "    plt.colorbar(fraction=0.02)\n",
        "    plt.xlim([0,3500])\n",
        "\n",
        "    plt.subplot(4,3,j+7)\n",
        "    pcolor(pred_plot[0,:,:,t][mask].reshape((thickness, -1)))\n",
        "    plt.title('$\\hat{SG}$ (-), '+f't={time_print[t]}')\n",
        "    plt.colorbar(fraction=0.02)\n",
        "    plt.xlim([0,3500])\n",
        "\n",
        "    plt.subplot(4,3,j+10)\n",
        "    pcolor((pred_plot[0,:,:,t][mask].reshape((thickness, -1))-y_plot[0,:,:,t][mask].reshape((thickness, -1))))\n",
        "    plt.colorbar(fraction=0.02)\n",
        "    plt.title('|$SG-\\hat{SG}$|, '+f't={time_print[t]}')\n",
        "    plt.xlim([0,3500])\n",
        "plt.tight_layout()\n",
        "plt.show()"
      ],
      "metadata": {
        "id": "MLCWGRwLdZAy"
      },
      "execution_count": null,
      "outputs": []
    }
  ]
}