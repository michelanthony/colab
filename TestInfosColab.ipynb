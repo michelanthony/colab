{
  "cells": [
    {
      "cell_type": "markdown",
      "metadata": {
        "id": "view-in-github",
        "colab_type": "text"
      },
      "source": [
        "<a href=\"https://colab.research.google.com/github/michelanthony/colab/blob/main/TestInfosColab.ipynb\" target=\"_parent\"><img src=\"https://colab.research.google.com/assets/colab-badge.svg\" alt=\"Open In Colab\"/></a>"
      ]
    },
    {
      "cell_type": "markdown",
      "metadata": {
        "id": "SKQ4bH7qMGrA"
      },
      "source": [
        "# Tirer pleinement parti de votre abonnement à Colab\n",
        "\n"
      ]
    },
    {
      "cell_type": "markdown",
      "metadata": {
        "id": "QMMqmdiYMkvi"
      },
      "source": [
        "## GPU plus rapides\n",
        "\n",
        "<p>Les utilisateurs ayant souscrit l'un des forfaits payants de Colab ont accès à des GPU premium. Vous pouvez mettre à niveau les paramètres GPU de votre notebook via <code>Environnement d'exécution &gt; Modifier le type d'exécution</code> dans le menu pour activer l'accélérateur Premium. En fonction des disponibilités, sélectionner un GPU premium peut vous donner accès à un GPU Nvidia V100 ou A100.</p>\n",
        "<p>La version sans frais de Colab permet d'accéder aux GPU T4 de Nvidia, selon les restrictions de quota et la disponibilité.</p>\n",
        "\n",
        "Vous pouvez voir le GPU qui vous est attribué à tout moment en exécutant la cellule suivante. Si le résultat d'exécution de la cellule de code ci-dessous est \"Not connected to a GPU\" &#40;\"Non connecté à un GPU\"&#41;, vous pouvez modifier l'environnement d'exécution en sélectionnant <code>Environnement d'exécution &gt; Modifier le type d'exécution</code> dans le menu pour activer un accélérateur GPU. Ensuite, réexécutez la cellule de code."
      ]
    },
    {
      "cell_type": "code",
      "execution_count": null,
      "metadata": {
        "id": "23TOba33L4qf"
      },
      "outputs": [],
      "source": [
        "gpu_info = !nvidia-smi\n",
        "gpu_info = '\\n'.join(gpu_info)\n",
        "if gpu_info.find('failed') >= 0:\n",
        "  print('Not connected to a GPU')\n",
        "else:\n",
        "  print(gpu_info)"
      ]
    },
    {
      "cell_type": "markdown",
      "metadata": {
        "id": "Sa-IrJS1aRVJ"
      },
      "source": [
        "Pour utiliser un GPU avec votre notebook, sélectionnez <code>Environnement d'exécution &gt; Modifier le type d'exécution</code>, puis dans le menu déroulant \"Accélérateur matériel\", sélectionnez l'option \"GPU\"."
      ]
    },
    {
      "cell_type": "markdown",
      "metadata": {
        "id": "65MSuHKqNeBZ"
      },
      "source": [
        "## Plus de mémoire\n",
        "\n",
        "Les utilisateurs ayant souscrit l'un des forfaits payants de Colab ont accès aux VM à haute capacité de mémoire dès qu'elles sont disponibles.\n",
        "Vous pouvez surveiller la quantité de mémoire à votre disposition à tout moment en exécutant la cellule de code suivante. Si le résultat d'exécution de la cellule de code ci-dessous est \"Not using a high-RAM runtime\" &#40;\"Un environnement d'exécution à mémoire RAM élevée n'est pas utilisé\"&#41;, vous pouvez activer un environnement d'exécution à mémoire RAM élevée en sélectionnant <code>Environnement d'exécution &gt; Modifier le type d'exécution</code> dans le menu. Ensuite, sélectionnez \"Mémoire RAM élevée\" dans le menu déroulant \"Configuration de l'environnement d'exécution\", puis réexécutez la cellule de code."
      ]
    },
    {
      "cell_type": "code",
      "execution_count": null,
      "metadata": {
        "id": "V1G82GuO-tez"
      },
      "outputs": [],
      "source": [
        "from psutil import virtual_memory\n",
        "ram_gb = virtual_memory().total / 1e9\n",
        "print('Your runtime has {:.1f} gigabytes of available RAM\\n'.format(ram_gb))\n",
        "\n",
        "if ram_gb < 20:\n",
        "  print('Not using a high-RAM runtime')\n",
        "else:\n",
        "  print('You are using a high-RAM runtime!')"
      ]
    },
    {
      "cell_type": "markdown",
      "metadata": {
        "id": "BJW8Qi-pPpep"
      },
      "source": [
        "## Environnements d'exécution plus durables\n",
        "\n",
        "Tous les environnements d'exécution Colab sont réinitialisés après un certain temps &#40;plus rapidement s'il ne s'agit pas d'un environnement d'exécution de code&#41;. Les utilisateurs de Colab Pro et Colab Pro+ ont accès à des environnements d'exécution plus durables que les utilisateurs de la version sans frais de Colab.\n",
        "\n",
        "## Exécution en arrière-plan\n",
        "\n",
        "Les utilisateurs de Colab Pro+ ont accès à l'exécution en arrière-plan, qui permet aux notebooks de poursuivre leur exécution même après la fermeture d'un onglet de navigateur. Cette option est toujours activée dans les environnements d'exécution Pro+ tant que des unités de calcul sont disponibles.\n"
      ]
    },
    {
      "cell_type": "markdown",
      "metadata": {
        "id": "uLlTRcMM_h0k"
      },
      "source": [
        "## Assouplir les limites de ressources dans Colab Pro\n",
        "\n",
        "Vos ressources ne sont pas illimitées dans Colab. Pour profiter pleinement de Colab, évitez d'utiliser des ressources lorsque vous n'en avez pas besoin. Par exemple, n'utilisez un GPU que si nécessaire et fermez les onglets Colab lorsque vous avez terminé.\n",
        "\n",
        "Si vous êtes confronté à des limites, vous pouvez les assouplir en achetant davantage d'unités de calcul via le <a href=\"https://colab.research.google.com/signup\">paiement à l'usage</a>. Tout le monde peut le faire, aucun abonnement n'est requis."
      ]
    },
    {
      "cell_type": "markdown",
      "metadata": {
        "id": "mm8FzEidvPs6"
      },
      "source": [
        "## Envoyer vos commentaires\n",
        "\n",
        "<p>Si vous avez des commentaires, n'hésitez pas à nous les faire parvenir. Pour cela, il vous suffit de sélectionner Aide &gt; Envoyer des commentaires. Si vous faites l'objet de limites d'utilisation dans Colab Pro, envisagez de vous abonner à Colab Pro+.</p>\n",
        "<p>Si vous rencontrez des erreurs ou d'autres problèmes de facturation &#40;paiements&#41; avec Colab Pro, Colab Pro+ ou le paiement à l'usage, veuillez contacter <a href=\"mailto:colab-billing@google.com\">colab-billing@google.com</a>.</p>"
      ]
    },
    {
      "cell_type": "markdown",
      "metadata": {
        "id": "qB3bdLe8jkAa"
      },
      "source": [
        "## Autres ressources\n",
        "\n",
        "### Utiliser les notebooks dans Colab\n",
        "- [Présentation de Colaboratory](/notebooks/basic_features_overview.ipynb)\n",
        "- [Guide de Markdown](/notebooks/markdown_guide.ipynb)\n",
        "- [Importer des bibliothèques et installer des dépendances](/notebooks/snippets/importing_libraries.ipynb)\n",
        "- [Enregistrer et charger des notebooks dans GitHub](https://colab.research.google.com/github/googlecolab/colabtools/blob/master/notebooks/colab-github-demo.ipynb)\n",
        "- [Formulaires interactifs](/notebooks/forms.ipynb)\n",
        "- [Widgets interactifs](/notebooks/widgets.ipynb)\n",
        "\n",
        "<a name=\"working-with-data\"></a>\n",
        "### Utiliser les données\n",
        "- [Chargement de données : Drive, Sheets et Google Cloud Storage](/notebooks/io.ipynb)\n",
        "- [Graphiques : visualiser les données](/notebooks/charts.ipynb)\n",
        "- [Premiers pas avec BigQuery](/notebooks/bigquery.ipynb)\n",
        "\n",
        "### Cours d'initiation au Machine Learning\n",
        "Vous trouverez ci-dessous quelques-uns des notebooks de la formation Google en ligne sur le machine learning. Consultez la <a href=\"https://developers.google.com/machine-learning/crash-course/\">formation complète en ligne</a> pour en savoir plus.\n",
        "- [Présentation du DataFrame pandas](https://colab.research.google.com/github/google/eng-edu/blob/main/ml/cc/exercises/pandas_dataframe_ultraquick_tutorial.ipynb)\n",
        "- [Régression linéaire avec tf.keras et des données synthétiques](https://colab.research.google.com/github/google/eng-edu/blob/main/ml/cc/exercises/linear_regression_with_synthetic_data.ipynb)\n",
        "\n",
        "\n",
        "<a name=\"using-accelerated-hardware\"></a>\n",
        "### Utiliser le matériel accéléré\n",
        "- [TensorFlow avec des GPU](/notebooks/gpu.ipynb)\n",
        "- [TensorFlow avec des TPU](/notebooks/tpu.ipynb)"
      ]
    },
    {
      "cell_type": "markdown",
      "metadata": {
        "id": "RFm2S0Gijqo8"
      },
      "source": [
        "<a name=\"machine-learning-examples\"></a>\n",
        "\n",
        "## Exemples de machine learning\n",
        "\n",
        "Pour voir des exemples complets d'analyses interactives de machine learning rendues possibles par Colaboratory, consultez ces tutoriels utilisant des modèles issus de <a href=\"https://tfhub.dev\">TensorFlow Hub</a>.\n",
        "\n",
        "Voici quelques exemples :\n",
        "\n",
        "- <a href=\"https://tensorflow.org/hub/tutorials/tf2_image_retraining\">Recyclage d'un classificateur d'images</a> : construisez un modèle Keras sur un classificateur d'images pré-entraîné pour faire la distinction entre différentes fleurs.\n",
        "- <a href=\"https://tensorflow.org/hub/tutorials/tf2_text_classification\">Classification de texte</a> : classez des avis sur des films provenant de la base de données IMDB comme <em>positifs</em> ou <em>négatifs</em>.\n",
        "- <a href=\"https://tensorflow.org/hub/tutorials/tf2_arbitrary_image_stylization\">Transfert de style</a> : utilisez le deep learning pour transférer un style d'une image à une autre.\n",
        "- <a href=\"https://tensorflow.org/hub/tutorials/retrieval_with_tf_hub_universal_encoder_qa\">Questions/Réponses sur l'encodeur de phrases universel multilingue</a> : utilisez un modèle de machine learning afin de répondre aux questions issues de l'ensemble de données SQuAD.\n",
        "- <a href=\"https://tensorflow.org/hub/tutorials/tweening_conv3d\">Interpolation vidéo</a> : prédisez ce qui s'est passé entre la première et la dernière image d'une vidéo.\n"
      ]
    }
  ],
  "metadata": {
    "colab": {
      "name": "Tirer pleinement parti de votre abonnement à Colab",
      "provenance": [],
      "include_colab_link": true
    },
    "kernelspec": {
      "display_name": "Python 3",
      "name": "python3"
    }
  },
  "nbformat": 4,
  "nbformat_minor": 0
}